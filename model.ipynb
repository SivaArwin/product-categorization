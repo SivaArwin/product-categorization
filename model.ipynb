{
 "cells": [
  {
   "cell_type": "code",
   "execution_count": 11,
   "metadata": {},
   "outputs": [
    {
     "name": "stdout",
     "output_type": "stream",
     "text": [
      "The autoreload extension is already loaded. To reload it, use:\n",
      "  %reload_ext autoreload\n"
     ]
    }
   ],
   "source": [
    "%load_ext autoreload\n",
    "%autoreload 2"
   ]
  },
  {
   "cell_type": "code",
   "execution_count": 75,
   "metadata": {},
   "outputs": [],
   "source": [
    "import pandas as pd\n",
    "\n",
    "from nltk.stem.wordnet import WordNetLemmatizer\n",
    "\n",
    "from sklearn.model_selection import train_test_split\n",
    "from sklearn.linear_model import LogisticRegression\n",
    "from sklearn.feature_extraction.text import TfidfVectorizer\n",
    "from sklearn.naive_bayes import MultinomialNB\n",
    "from sklearn.model_selection import GridSearchCV\n",
    "from sklearn.tree import DecisionTreeClassifier\n",
    "from sklearn.neighbors import KNeighborsClassifier\n",
    "from sklearn.ensemble import RandomForestClassifier\n",
    "from sklearn.svm import SVC\n",
    "from sklearn.model_selection import StratifiedKFold\n",
    "\n",
    "import joblib\n",
    "\n",
    "from utils import download_nltk_dependencies, get_stop_words, clean_text, lemmatize_words, remove_stop_words, print_accuracies, print_classification_report\n",
    "\n",
    "from imblearn.pipeline import Pipeline\n",
    "from imblearn.over_sampling import SMOTE"
   ]
  },
  {
   "cell_type": "code",
   "execution_count": 58,
   "metadata": {},
   "outputs": [
    {
     "name": "stdout",
     "output_type": "stream",
     "text": [
      "Downloading nltk dependencies, these are downloaded only once\n"
     ]
    },
    {
     "name": "stderr",
     "output_type": "stream",
     "text": [
      "[nltk_data] Downloading package wordnet to\n",
      "[nltk_data]     /home/mohitlakshya/nltk_data...\n",
      "[nltk_data]   Package wordnet is already up-to-date!\n",
      "[nltk_data] Downloading package omw-1.4 to\n",
      "[nltk_data]     /home/mohitlakshya/nltk_data...\n",
      "[nltk_data]   Package omw-1.4 is already up-to-date!\n",
      "[nltk_data] Downloading package stopwords to\n",
      "[nltk_data]     /home/mohitlakshya/nltk_data...\n",
      "[nltk_data]   Package stopwords is already up-to-date!\n",
      "[nltk_data] Downloading package punkt to\n",
      "[nltk_data]     /home/mohitlakshya/nltk_data...\n",
      "[nltk_data]   Package punkt is already up-to-date!\n"
     ]
    }
   ],
   "source": [
    "download_nltk_dependencies()"
   ]
  },
  {
   "cell_type": "code",
   "execution_count": 59,
   "metadata": {},
   "outputs": [
    {
     "data": {
      "text/html": [
       "<div>\n",
       "<style scoped>\n",
       "    .dataframe tbody tr th:only-of-type {\n",
       "        vertical-align: middle;\n",
       "    }\n",
       "\n",
       "    .dataframe tbody tr th {\n",
       "        vertical-align: top;\n",
       "    }\n",
       "\n",
       "    .dataframe thead th {\n",
       "        text-align: right;\n",
       "    }\n",
       "</style>\n",
       "<table border=\"1\" class=\"dataframe\">\n",
       "  <thead>\n",
       "    <tr style=\"text-align: right;\">\n",
       "      <th></th>\n",
       "      <th>category</th>\n",
       "      <th>sub_category</th>\n",
       "      <th>href</th>\n",
       "      <th>items</th>\n",
       "    </tr>\n",
       "  </thead>\n",
       "  <tbody>\n",
       "    <tr>\n",
       "      <th>0</th>\n",
       "      <td>Groceries</td>\n",
       "      <td>Fruits &amp; Vegetables</td>\n",
       "      <td>https://www.jiomart.com/c/groceries/fruits-veg...</td>\n",
       "      <td>Fresh Dates (Pack) (Approx 450 g - 500 g)</td>\n",
       "    </tr>\n",
       "    <tr>\n",
       "      <th>0</th>\n",
       "      <td>Groceries</td>\n",
       "      <td>Fruits &amp; Vegetables</td>\n",
       "      <td>https://www.jiomart.com/c/groceries/fruits-veg...</td>\n",
       "      <td>Tender Coconut Cling Wrapped (1 pc) (Approx 90...</td>\n",
       "    </tr>\n",
       "    <tr>\n",
       "      <th>0</th>\n",
       "      <td>Groceries</td>\n",
       "      <td>Fruits &amp; Vegetables</td>\n",
       "      <td>https://www.jiomart.com/c/groceries/fruits-veg...</td>\n",
       "      <td>Dates Imported (Approx 400 g - 500 g)</td>\n",
       "    </tr>\n",
       "    <tr>\n",
       "      <th>0</th>\n",
       "      <td>Groceries</td>\n",
       "      <td>Fruits &amp; Vegetables</td>\n",
       "      <td>https://www.jiomart.com/c/groceries/fruits-veg...</td>\n",
       "      <td>Papaya (Each) (Approx. 800 g - 1600 g)</td>\n",
       "    </tr>\n",
       "    <tr>\n",
       "      <th>0</th>\n",
       "      <td>Groceries</td>\n",
       "      <td>Fruits &amp; Vegetables</td>\n",
       "      <td>https://www.jiomart.com/c/groceries/fruits-veg...</td>\n",
       "      <td>Watermelon Kiran Big 1 pc (Approx. 2800 g - 40...</td>\n",
       "    </tr>\n",
       "  </tbody>\n",
       "</table>\n",
       "</div>"
      ],
      "text/plain": [
       "    category         sub_category  \\\n",
       "0  Groceries  Fruits & Vegetables   \n",
       "0  Groceries  Fruits & Vegetables   \n",
       "0  Groceries  Fruits & Vegetables   \n",
       "0  Groceries  Fruits & Vegetables   \n",
       "0  Groceries  Fruits & Vegetables   \n",
       "\n",
       "                                                href  \\\n",
       "0  https://www.jiomart.com/c/groceries/fruits-veg...   \n",
       "0  https://www.jiomart.com/c/groceries/fruits-veg...   \n",
       "0  https://www.jiomart.com/c/groceries/fruits-veg...   \n",
       "0  https://www.jiomart.com/c/groceries/fruits-veg...   \n",
       "0  https://www.jiomart.com/c/groceries/fruits-veg...   \n",
       "\n",
       "                                               items  \n",
       "0          Fresh Dates (Pack) (Approx 450 g - 500 g)  \n",
       "0  Tender Coconut Cling Wrapped (1 pc) (Approx 90...  \n",
       "0              Dates Imported (Approx 400 g - 500 g)  \n",
       "0             Papaya (Each) (Approx. 800 g - 1600 g)  \n",
       "0  Watermelon Kiran Big 1 pc (Approx. 2800 g - 40...  "
      ]
     },
     "execution_count": 59,
     "metadata": {},
     "output_type": "execute_result"
    }
   ],
   "source": [
    "df = pd.read_parquet('./data/jio_mart_items.parquet')\n",
    "df.head()"
   ]
  },
  {
   "cell_type": "code",
   "execution_count": 60,
   "metadata": {},
   "outputs": [
    {
     "name": "stdout",
     "output_type": "stream",
     "text": [
      "['Fruits & Vegetables' 'Premium Fruits' 'Dairy & Bakery' 'Staples'\n",
      " 'Snacks & Branded Foods' 'Beverages' 'Personal Care' 'Home Care'\n",
      " 'Apparel' 'Mom & Baby Care' 'Books' 'Pets' 'Kitchenware' 'Dining'\n",
      " 'Furnishing' 'Home Decor' 'Furniture' 'Home Appliances'\n",
      " 'Toys, Games & Fitness' 'Electrical' 'Bathroom & Laundry Accessories'\n",
      " 'Disposables' 'Stationery' 'Bags & Travel Luggage'\n",
      " 'Mops, Brushes & Scrubs' 'Auto Care' 'Garden & Outdoor'\n",
      " 'Carpentry & work accessories' 'Pooja Needs' 'Bathroom & Laundry'\n",
      " 'Industrial & Scientific Supplies' 'Building Supplies & Measuring Tools'\n",
      " 'Hardware & Plumbing' 'Home Safety & Automation'\n",
      " 'Kitchen & Bath Fixtures' 'Paint, Wall Treatments & Supplies'\n",
      " 'Power & Hand Tools' 'Handloom & Handicraft' 'Personal Wear' 'Men'\n",
      " 'Women' 'Boys' 'Girls' 'Junior Boys' 'Junior Girls' 'Infants' 'Tech'\n",
      " 'Mobiles & Tablets' 'TV & Speaker' 'Computers' 'Cameras'\n",
      " 'Kitchen Appliances' 'Personal Care & Grooming' 'Smart Devices' 'Gaming'\n",
      " 'Accessories' 'Phones' 'Office Products' 'Health Care Devices' 'Make-Up'\n",
      " 'Hair' 'Skin Care' 'Fragrances' 'Mom & Baby' \"Men's Grooming\"\n",
      " 'Tools & Appliances' 'Covid Essentials' 'Wellness' 'Fitness' 'Ayush'\n",
      " 'Treatments' 'Fine Jewellery']\n"
     ]
    }
   ],
   "source": [
    "print(df.sub_category.unique())"
   ]
  },
  {
   "cell_type": "code",
   "execution_count": 61,
   "metadata": {},
   "outputs": [],
   "source": [
    "# create shop mapping\n",
    "vegetable_shop = ['Fruits & Vegetables', 'Premium Fruits']\n",
    "dairy_shop = ['Dairy & Bakery']\n",
    "kirana_shop = ['Staples', 'Snacks & Branded Foods', 'Bathroom & Laundry Accessories', 'Pooja Needs', 'Beverages', 'Mops, Brushes & Scrubs', 'Disposables']\n",
    "cloth_shop = ['Apparel', 'Personal Wear', 'Men', 'Women', 'Boys', 'Girls', 'Junior Boys', 'Junior Girls', 'Infants']\n",
    "pharmacy_shop = ['Personal Care', 'Personal Care & Grooming', 'Mom & Baby Care', 'Wellness', 'Fitness', 'Ayush', 'Covid Essentials', 'Health Care Devices', 'Treatments', 'Mom & Baby']\n",
    "beauty_shop = ['Make-Up', 'Hair', 'Skin Care', 'Fragrances', \"Men's Grooming\", 'Tools & Appliances']\n",
    "sports_shop = ['Toys, Games & Fitness']\n",
    "hardware_shop = ['Carpentry & work accessories', 'Industrial & Scientific Supplies', 'Building Supplies & Measuring Tools', 'Hardware & Plumbing', 'Home Safety & Automation', 'Kitchen & Bath Fixtures', 'Paint, Wall Treatments & Supplies']\n",
    "electronics_shop = ['Power & Hand Tools', 'Electrical', 'Home Appliances']\n",
    "mobile_shop = ['Tech', 'Mobiles & Tablets', 'TV & Speaker', 'Computers', 'Cameras', 'Kitchen Appliances', 'Smart Devices', 'Gaming', 'Phones', 'Accessories']\n",
    "stationary_shop = ['Office Products', 'Books', 'Stationery']\n",
    "jewellery_shop = ['Fine Jewellery']\n",
    "home_decor_shop = ['Furniture', 'Garden & Outdoor', 'Home Decor', 'Furnishing', 'Kitchenware', 'Dining']\n",
    "\n",
    "shops = {'vegetable_shop': vegetable_shop, 'dairy_shop': dairy_shop, 'kirana_shop': kirana_shop, 'cloth_shop': cloth_shop, 'pharamacy_shop': pharmacy_shop,\n",
    "        'beauty_shop': beauty_shop, 'sports_shop': sports_shop, 'hardware_shop': hardware_shop, 'electronics_shop': electronics_shop, 'mobile_shop': mobile_shop,\n",
    "        'stationary_shop': stationary_shop, 'jewellery_shop': jewellery_shop, 'furniture_shop': home_decor_shop}"
   ]
  },
  {
   "cell_type": "code",
   "execution_count": 62,
   "metadata": {},
   "outputs": [],
   "source": [
    "def shop_name(x):\n",
    "    shop = None\n",
    "    for k, v in shops.items():\n",
    "        if x in v:\n",
    "            shop = k\n",
    "    if shop is None:\n",
    "        shop = 'other_shop' \n",
    "    return shop\n",
    "\n",
    "df['shop'] = df['sub_category'].apply(lambda x: shop_name(x))"
   ]
  },
  {
   "cell_type": "code",
   "execution_count": 63,
   "metadata": {},
   "outputs": [
    {
     "data": {
      "text/plain": [
       "(158172, 5)"
      ]
     },
     "execution_count": 63,
     "metadata": {},
     "output_type": "execute_result"
    }
   ],
   "source": [
    "df.shape"
   ]
  },
  {
   "cell_type": "markdown",
   "metadata": {},
   "source": [
    "We have total 158172 product items"
   ]
  },
  {
   "cell_type": "code",
   "execution_count": 64,
   "metadata": {},
   "outputs": [],
   "source": [
    "# remove rows where there is no item description\n",
    "df = df.loc[~df['items'].isna(), :]"
   ]
  },
  {
   "cell_type": "markdown",
   "metadata": {},
   "source": [
    "Checking for class imbalance"
   ]
  },
  {
   "cell_type": "code",
   "execution_count": 65,
   "metadata": {},
   "outputs": [
    {
     "data": {
      "text/html": [
       "<div>\n",
       "<style scoped>\n",
       "    .dataframe tbody tr th:only-of-type {\n",
       "        vertical-align: middle;\n",
       "    }\n",
       "\n",
       "    .dataframe tbody tr th {\n",
       "        vertical-align: top;\n",
       "    }\n",
       "\n",
       "    .dataframe thead th {\n",
       "        text-align: right;\n",
       "    }\n",
       "</style>\n",
       "<table border=\"1\" class=\"dataframe\">\n",
       "  <thead>\n",
       "    <tr style=\"text-align: right;\">\n",
       "      <th></th>\n",
       "      <th>shop</th>\n",
       "      <th>items</th>\n",
       "      <th>perc</th>\n",
       "    </tr>\n",
       "  </thead>\n",
       "  <tbody>\n",
       "    <tr>\n",
       "      <th>0</th>\n",
       "      <td>beauty_shop</td>\n",
       "      <td>9222</td>\n",
       "      <td>5.831579</td>\n",
       "    </tr>\n",
       "    <tr>\n",
       "      <th>1</th>\n",
       "      <td>cloth_shop</td>\n",
       "      <td>25978</td>\n",
       "      <td>16.427320</td>\n",
       "    </tr>\n",
       "    <tr>\n",
       "      <th>2</th>\n",
       "      <td>dairy_shop</td>\n",
       "      <td>516</td>\n",
       "      <td>0.326295</td>\n",
       "    </tr>\n",
       "    <tr>\n",
       "      <th>3</th>\n",
       "      <td>electronics_shop</td>\n",
       "      <td>4912</td>\n",
       "      <td>3.106128</td>\n",
       "    </tr>\n",
       "    <tr>\n",
       "      <th>4</th>\n",
       "      <td>furniture_shop</td>\n",
       "      <td>28500</td>\n",
       "      <td>18.022120</td>\n",
       "    </tr>\n",
       "    <tr>\n",
       "      <th>5</th>\n",
       "      <td>hardware_shop</td>\n",
       "      <td>1613</td>\n",
       "      <td>1.019989</td>\n",
       "    </tr>\n",
       "    <tr>\n",
       "      <th>6</th>\n",
       "      <td>jewellery_shop</td>\n",
       "      <td>72</td>\n",
       "      <td>0.045530</td>\n",
       "    </tr>\n",
       "    <tr>\n",
       "      <th>7</th>\n",
       "      <td>kirana_shop</td>\n",
       "      <td>24024</td>\n",
       "      <td>15.191698</td>\n",
       "    </tr>\n",
       "    <tr>\n",
       "      <th>8</th>\n",
       "      <td>mobile_shop</td>\n",
       "      <td>15352</td>\n",
       "      <td>9.707915</td>\n",
       "    </tr>\n",
       "    <tr>\n",
       "      <th>9</th>\n",
       "      <td>other_shop</td>\n",
       "      <td>11850</td>\n",
       "      <td>7.493408</td>\n",
       "    </tr>\n",
       "    <tr>\n",
       "      <th>10</th>\n",
       "      <td>pharamacy_shop</td>\n",
       "      <td>19294</td>\n",
       "      <td>12.200659</td>\n",
       "    </tr>\n",
       "    <tr>\n",
       "      <th>11</th>\n",
       "      <td>sports_shop</td>\n",
       "      <td>8148</td>\n",
       "      <td>5.152429</td>\n",
       "    </tr>\n",
       "    <tr>\n",
       "      <th>12</th>\n",
       "      <td>stationary_shop</td>\n",
       "      <td>8325</td>\n",
       "      <td>5.264356</td>\n",
       "    </tr>\n",
       "    <tr>\n",
       "      <th>13</th>\n",
       "      <td>vegetable_shop</td>\n",
       "      <td>333</td>\n",
       "      <td>0.210574</td>\n",
       "    </tr>\n",
       "  </tbody>\n",
       "</table>\n",
       "</div>"
      ],
      "text/plain": [
       "                shop  items       perc\n",
       "0        beauty_shop   9222   5.831579\n",
       "1         cloth_shop  25978  16.427320\n",
       "2         dairy_shop    516   0.326295\n",
       "3   electronics_shop   4912   3.106128\n",
       "4     furniture_shop  28500  18.022120\n",
       "5      hardware_shop   1613   1.019989\n",
       "6     jewellery_shop     72   0.045530\n",
       "7        kirana_shop  24024  15.191698\n",
       "8        mobile_shop  15352   9.707915\n",
       "9         other_shop  11850   7.493408\n",
       "10    pharamacy_shop  19294  12.200659\n",
       "11       sports_shop   8148   5.152429\n",
       "12   stationary_shop   8325   5.264356\n",
       "13    vegetable_shop    333   0.210574"
      ]
     },
     "execution_count": 65,
     "metadata": {},
     "output_type": "execute_result"
    }
   ],
   "source": [
    "summary = df.groupby('shop')['items'].count().reset_index()\n",
    "summary['perc'] = summary['items']*100/summary['items'].sum()\n",
    "summary"
   ]
  },
  {
   "cell_type": "markdown",
   "metadata": {},
   "source": [
    "Cleaning Text data\n",
    "\n",
    "1. Remove non-alphanumeric characters\n",
    "2. Remove stop words\n",
    "3. Lemmatize each line of text"
   ]
  },
  {
   "cell_type": "code",
   "execution_count": 66,
   "metadata": {},
   "outputs": [
    {
     "data": {
      "text/html": [
       "<div>\n",
       "<style scoped>\n",
       "    .dataframe tbody tr th:only-of-type {\n",
       "        vertical-align: middle;\n",
       "    }\n",
       "\n",
       "    .dataframe tbody tr th {\n",
       "        vertical-align: top;\n",
       "    }\n",
       "\n",
       "    .dataframe thead th {\n",
       "        text-align: right;\n",
       "    }\n",
       "</style>\n",
       "<table border=\"1\" class=\"dataframe\">\n",
       "  <thead>\n",
       "    <tr style=\"text-align: right;\">\n",
       "      <th></th>\n",
       "      <th>category</th>\n",
       "      <th>sub_category</th>\n",
       "      <th>href</th>\n",
       "      <th>items</th>\n",
       "      <th>shop</th>\n",
       "      <th>clean_items</th>\n",
       "    </tr>\n",
       "  </thead>\n",
       "  <tbody>\n",
       "    <tr>\n",
       "      <th>0</th>\n",
       "      <td>Groceries</td>\n",
       "      <td>Fruits &amp; Vegetables</td>\n",
       "      <td>https://www.jiomart.com/c/groceries/fruits-veg...</td>\n",
       "      <td>Fresh Dates (Pack) (Approx 450 g - 500 g)</td>\n",
       "      <td>vegetable_shop</td>\n",
       "      <td>fresh date pack</td>\n",
       "    </tr>\n",
       "    <tr>\n",
       "      <th>0</th>\n",
       "      <td>Groceries</td>\n",
       "      <td>Fruits &amp; Vegetables</td>\n",
       "      <td>https://www.jiomart.com/c/groceries/fruits-veg...</td>\n",
       "      <td>Tender Coconut Cling Wrapped (1 pc) (Approx 90...</td>\n",
       "      <td>vegetable_shop</td>\n",
       "      <td>tender coconut cling wrapped</td>\n",
       "    </tr>\n",
       "    <tr>\n",
       "      <th>0</th>\n",
       "      <td>Groceries</td>\n",
       "      <td>Fruits &amp; Vegetables</td>\n",
       "      <td>https://www.jiomart.com/c/groceries/fruits-veg...</td>\n",
       "      <td>Dates Imported (Approx 400 g - 500 g)</td>\n",
       "      <td>vegetable_shop</td>\n",
       "      <td>date imported</td>\n",
       "    </tr>\n",
       "    <tr>\n",
       "      <th>0</th>\n",
       "      <td>Groceries</td>\n",
       "      <td>Fruits &amp; Vegetables</td>\n",
       "      <td>https://www.jiomart.com/c/groceries/fruits-veg...</td>\n",
       "      <td>Papaya (Each) (Approx. 800 g - 1600 g)</td>\n",
       "      <td>vegetable_shop</td>\n",
       "      <td>papaya</td>\n",
       "    </tr>\n",
       "    <tr>\n",
       "      <th>0</th>\n",
       "      <td>Groceries</td>\n",
       "      <td>Fruits &amp; Vegetables</td>\n",
       "      <td>https://www.jiomart.com/c/groceries/fruits-veg...</td>\n",
       "      <td>Watermelon Kiran Big 1 pc (Approx. 2800 g - 40...</td>\n",
       "      <td>vegetable_shop</td>\n",
       "      <td>watermelon kiran big</td>\n",
       "    </tr>\n",
       "  </tbody>\n",
       "</table>\n",
       "</div>"
      ],
      "text/plain": [
       "    category         sub_category  \\\n",
       "0  Groceries  Fruits & Vegetables   \n",
       "0  Groceries  Fruits & Vegetables   \n",
       "0  Groceries  Fruits & Vegetables   \n",
       "0  Groceries  Fruits & Vegetables   \n",
       "0  Groceries  Fruits & Vegetables   \n",
       "\n",
       "                                                href  \\\n",
       "0  https://www.jiomart.com/c/groceries/fruits-veg...   \n",
       "0  https://www.jiomart.com/c/groceries/fruits-veg...   \n",
       "0  https://www.jiomart.com/c/groceries/fruits-veg...   \n",
       "0  https://www.jiomart.com/c/groceries/fruits-veg...   \n",
       "0  https://www.jiomart.com/c/groceries/fruits-veg...   \n",
       "\n",
       "                                               items            shop  \\\n",
       "0          Fresh Dates (Pack) (Approx 450 g - 500 g)  vegetable_shop   \n",
       "0  Tender Coconut Cling Wrapped (1 pc) (Approx 90...  vegetable_shop   \n",
       "0              Dates Imported (Approx 400 g - 500 g)  vegetable_shop   \n",
       "0             Papaya (Each) (Approx. 800 g - 1600 g)  vegetable_shop   \n",
       "0  Watermelon Kiran Big 1 pc (Approx. 2800 g - 40...  vegetable_shop   \n",
       "\n",
       "                    clean_items  \n",
       "0               fresh date pack  \n",
       "0  tender coconut cling wrapped  \n",
       "0                 date imported  \n",
       "0                        papaya  \n",
       "0          watermelon kiran big  "
      ]
     },
     "execution_count": 66,
     "metadata": {},
     "output_type": "execute_result"
    }
   ],
   "source": [
    "stop_words = get_stop_words()\n",
    "lemma = WordNetLemmatizer()\n",
    "\n",
    "df['clean_items'] = df['items'].apply(lambda x: clean_text(x))\n",
    "df['clean_items'] = df['clean_items'].apply(lambda x: remove_stop_words(x, stop_words))\n",
    "df['clean_items'] = df['clean_items'].apply(lambda x: lemmatize_words(x, lemma))\n",
    "\n",
    "df.head()\n"
   ]
  },
  {
   "cell_type": "code",
   "execution_count": 67,
   "metadata": {},
   "outputs": [],
   "source": [
    "# save cleaned data\n",
    "df.to_parquet('./data/jio_mart_items_cleaned.parquet')"
   ]
  },
  {
   "cell_type": "markdown",
   "metadata": {},
   "source": [
    "Using smote and tfidf"
   ]
  },
  {
   "cell_type": "code",
   "execution_count": 68,
   "metadata": {},
   "outputs": [],
   "source": [
    "# train test split\n",
    "x_train, x_test, y_train, y_test = train_test_split(df['clean_items'], df['shop'], stratify=df['shop'])"
   ]
  },
  {
   "cell_type": "code",
   "execution_count": 101,
   "metadata": {},
   "outputs": [],
   "source": [
    "# grid search on multiple models with different parameters\n",
    "\n",
    "# Initialze the estimators\n",
    "clf1 = RandomForestClassifier(random_state=42)\n",
    "clf2 = SVC(probability=True, random_state=42)\n",
    "clf3 = LogisticRegression(random_state=42)\n",
    "clf4 = DecisionTreeClassifier(random_state=42)\n",
    "clf5 = KNeighborsClassifier()\n",
    "clf6 = MultinomialNB()\n",
    "\n",
    "# tfidf parameters\n",
    "tfidf_params = {\n",
    "    'tfidf__max_df': (0.25, 0.5, 0.75)\n",
    "}\n",
    "\n",
    "classifiers = [clf1, clf2, clf3, clf4, clf5, clf6]\n",
    "\n",
    "params = [{'classifier': clf} for clf in classifiers]"
   ]
  },
  {
   "cell_type": "code",
   "execution_count": 103,
   "metadata": {},
   "outputs": [],
   "source": [
    "# making pipeline\n",
    "# using smote to handle class imbalances\n",
    "\n",
    "pipeline = Pipeline(\n",
    "    [\n",
    "        ('tfidf', TfidfVectorizer()),\n",
    "        ('smote', SMOTE(random_state=100)),\n",
    "        ('classifier', clf1)\n",
    "    ]\n",
    ")"
   ]
  },
  {
   "cell_type": "code",
   "execution_count": 104,
   "metadata": {},
   "outputs": [],
   "source": [
    "# making cv\n",
    "stratified_kfold = StratifiedKFold(n_splits=3,\n",
    "                                    shuffle=True,\n",
    "                                    random_state=11)"
   ]
  },
  {
   "cell_type": "code",
   "execution_count": 94,
   "metadata": {},
   "outputs": [
    {
     "data": {
      "text/html": [
       "<style>#sk-container-id-4 {color: black;background-color: white;}#sk-container-id-4 pre{padding: 0;}#sk-container-id-4 div.sk-toggleable {background-color: white;}#sk-container-id-4 label.sk-toggleable__label {cursor: pointer;display: block;width: 100%;margin-bottom: 0;padding: 0.3em;box-sizing: border-box;text-align: center;}#sk-container-id-4 label.sk-toggleable__label-arrow:before {content: \"▸\";float: left;margin-right: 0.25em;color: #696969;}#sk-container-id-4 label.sk-toggleable__label-arrow:hover:before {color: black;}#sk-container-id-4 div.sk-estimator:hover label.sk-toggleable__label-arrow:before {color: black;}#sk-container-id-4 div.sk-toggleable__content {max-height: 0;max-width: 0;overflow: hidden;text-align: left;background-color: #f0f8ff;}#sk-container-id-4 div.sk-toggleable__content pre {margin: 0.2em;color: black;border-radius: 0.25em;background-color: #f0f8ff;}#sk-container-id-4 input.sk-toggleable__control:checked~div.sk-toggleable__content {max-height: 200px;max-width: 100%;overflow: auto;}#sk-container-id-4 input.sk-toggleable__control:checked~label.sk-toggleable__label-arrow:before {content: \"▾\";}#sk-container-id-4 div.sk-estimator input.sk-toggleable__control:checked~label.sk-toggleable__label {background-color: #d4ebff;}#sk-container-id-4 div.sk-label input.sk-toggleable__control:checked~label.sk-toggleable__label {background-color: #d4ebff;}#sk-container-id-4 input.sk-hidden--visually {border: 0;clip: rect(1px 1px 1px 1px);clip: rect(1px, 1px, 1px, 1px);height: 1px;margin: -1px;overflow: hidden;padding: 0;position: absolute;width: 1px;}#sk-container-id-4 div.sk-estimator {font-family: monospace;background-color: #f0f8ff;border: 1px dotted black;border-radius: 0.25em;box-sizing: border-box;margin-bottom: 0.5em;}#sk-container-id-4 div.sk-estimator:hover {background-color: #d4ebff;}#sk-container-id-4 div.sk-parallel-item::after {content: \"\";width: 100%;border-bottom: 1px solid gray;flex-grow: 1;}#sk-container-id-4 div.sk-label:hover label.sk-toggleable__label {background-color: #d4ebff;}#sk-container-id-4 div.sk-serial::before {content: \"\";position: absolute;border-left: 1px solid gray;box-sizing: border-box;top: 0;bottom: 0;left: 50%;z-index: 0;}#sk-container-id-4 div.sk-serial {display: flex;flex-direction: column;align-items: center;background-color: white;padding-right: 0.2em;padding-left: 0.2em;position: relative;}#sk-container-id-4 div.sk-item {position: relative;z-index: 1;}#sk-container-id-4 div.sk-parallel {display: flex;align-items: stretch;justify-content: center;background-color: white;position: relative;}#sk-container-id-4 div.sk-item::before, #sk-container-id-4 div.sk-parallel-item::before {content: \"\";position: absolute;border-left: 1px solid gray;box-sizing: border-box;top: 0;bottom: 0;left: 50%;z-index: -1;}#sk-container-id-4 div.sk-parallel-item {display: flex;flex-direction: column;z-index: 1;position: relative;background-color: white;}#sk-container-id-4 div.sk-parallel-item:first-child::after {align-self: flex-end;width: 50%;}#sk-container-id-4 div.sk-parallel-item:last-child::after {align-self: flex-start;width: 50%;}#sk-container-id-4 div.sk-parallel-item:only-child::after {width: 0;}#sk-container-id-4 div.sk-dashed-wrapped {border: 1px dashed gray;margin: 0 0.4em 0.5em 0.4em;box-sizing: border-box;padding-bottom: 0.4em;background-color: white;}#sk-container-id-4 div.sk-label label {font-family: monospace;font-weight: bold;display: inline-block;line-height: 1.2em;}#sk-container-id-4 div.sk-label-container {text-align: center;}#sk-container-id-4 div.sk-container {/* jupyter's `normalize.less` sets `[hidden] { display: none; }` but bootstrap.min.css set `[hidden] { display: none !important; }` so we also need the `!important` here to be able to override the default hidden behavior on the sphinx rendered scikit-learn.org. See: https://github.com/scikit-learn/scikit-learn/issues/21755 */display: inline-block !important;position: relative;}#sk-container-id-4 div.sk-text-repr-fallback {display: none;}</style><div id=\"sk-container-id-4\" class=\"sk-top-container\"><div class=\"sk-text-repr-fallback\"><pre>GridSearchCV(estimator=Pipeline(steps=[(&#x27;tfidf&#x27;, TfidfVectorizer()),\n",
       "                                       (&#x27;smote&#x27;, SMOTE(random_state=100)),\n",
       "                                       (&#x27;classifier&#x27;, MultinomialNB())]),\n",
       "             param_grid=[{&#x27;classifier&#x27;: [MultinomialNB()]}],\n",
       "             refit=&#x27;f1_weighted&#x27;,\n",
       "             scoring=[&#x27;f1_weighted&#x27;, &#x27;precision_weighted&#x27;, &#x27;recall_weighted&#x27;])</pre><b>In a Jupyter environment, please rerun this cell to show the HTML representation or trust the notebook. <br />On GitHub, the HTML representation is unable to render, please try loading this page with nbviewer.org.</b></div><div class=\"sk-container\" hidden><div class=\"sk-item sk-dashed-wrapped\"><div class=\"sk-label-container\"><div class=\"sk-label sk-toggleable\"><input class=\"sk-toggleable__control sk-hidden--visually\" id=\"sk-estimator-id-16\" type=\"checkbox\" ><label for=\"sk-estimator-id-16\" class=\"sk-toggleable__label sk-toggleable__label-arrow\">GridSearchCV</label><div class=\"sk-toggleable__content\"><pre>GridSearchCV(estimator=Pipeline(steps=[(&#x27;tfidf&#x27;, TfidfVectorizer()),\n",
       "                                       (&#x27;smote&#x27;, SMOTE(random_state=100)),\n",
       "                                       (&#x27;classifier&#x27;, MultinomialNB())]),\n",
       "             param_grid=[{&#x27;classifier&#x27;: [MultinomialNB()]}],\n",
       "             refit=&#x27;f1_weighted&#x27;,\n",
       "             scoring=[&#x27;f1_weighted&#x27;, &#x27;precision_weighted&#x27;, &#x27;recall_weighted&#x27;])</pre></div></div></div><div class=\"sk-parallel\"><div class=\"sk-parallel-item\"><div class=\"sk-item\"><div class=\"sk-label-container\"><div class=\"sk-label sk-toggleable\"><input class=\"sk-toggleable__control sk-hidden--visually\" id=\"sk-estimator-id-17\" type=\"checkbox\" ><label for=\"sk-estimator-id-17\" class=\"sk-toggleable__label sk-toggleable__label-arrow\">estimator: Pipeline</label><div class=\"sk-toggleable__content\"><pre>Pipeline(steps=[(&#x27;tfidf&#x27;, TfidfVectorizer()),\n",
       "                (&#x27;smote&#x27;, SMOTE(random_state=100)),\n",
       "                (&#x27;classifier&#x27;, MultinomialNB())])</pre></div></div></div><div class=\"sk-serial\"><div class=\"sk-item\"><div class=\"sk-serial\"><div class=\"sk-item\"><div class=\"sk-estimator sk-toggleable\"><input class=\"sk-toggleable__control sk-hidden--visually\" id=\"sk-estimator-id-18\" type=\"checkbox\" ><label for=\"sk-estimator-id-18\" class=\"sk-toggleable__label sk-toggleable__label-arrow\">TfidfVectorizer</label><div class=\"sk-toggleable__content\"><pre>TfidfVectorizer()</pre></div></div></div><div class=\"sk-item\"><div class=\"sk-estimator sk-toggleable\"><input class=\"sk-toggleable__control sk-hidden--visually\" id=\"sk-estimator-id-19\" type=\"checkbox\" ><label for=\"sk-estimator-id-19\" class=\"sk-toggleable__label sk-toggleable__label-arrow\">SMOTE</label><div class=\"sk-toggleable__content\"><pre>SMOTE(random_state=100)</pre></div></div></div><div class=\"sk-item\"><div class=\"sk-estimator sk-toggleable\"><input class=\"sk-toggleable__control sk-hidden--visually\" id=\"sk-estimator-id-20\" type=\"checkbox\" ><label for=\"sk-estimator-id-20\" class=\"sk-toggleable__label sk-toggleable__label-arrow\">MultinomialNB</label><div class=\"sk-toggleable__content\"><pre>MultinomialNB()</pre></div></div></div></div></div></div></div></div></div></div></div></div>"
      ],
      "text/plain": [
       "GridSearchCV(estimator=Pipeline(steps=[('tfidf', TfidfVectorizer()),\n",
       "                                       ('smote', SMOTE(random_state=100)),\n",
       "                                       ('classifier', MultinomialNB())]),\n",
       "             param_grid=[{'classifier': [MultinomialNB()]}],\n",
       "             refit='f1_weighted',\n",
       "             scoring=['f1_weighted', 'precision_weighted', 'recall_weighted'])"
      ]
     },
     "execution_count": 94,
     "metadata": {},
     "output_type": "execute_result"
    }
   ],
   "source": [
    "# fit the model using grid search\n",
    "\n",
    "gs = GridSearchCV(\n",
    "    estimator = pipeline,\n",
    "    param_grid=params,\n",
    "    scoring=['f1_weighted', 'precision_weighted', 'recall_weighted'],\n",
    "    cv=stratified_kfold,\n",
    "    refit='f1_weighted'\n",
    "    \n",
    ")\n",
    "\n",
    "gs.fit(x_train, y_train)"
   ]
  },
  {
   "cell_type": "code",
   "execution_count": 95,
   "metadata": {},
   "outputs": [
    {
     "name": "stdout",
     "output_type": "stream",
     "text": [
      "Pipeline(steps=[('tfidf', TfidfVectorizer()),\n",
      "                ('smote', SMOTE(random_state=100)),\n",
      "                ('classifier', MultinomialNB())])\n",
      "{'classifier': MultinomialNB()}\n"
     ]
    }
   ],
   "source": [
    "# find best estimator\n",
    "print(gs.best_estimator_)\n",
    "print(gs.best_params_)"
   ]
  },
  {
   "cell_type": "code",
   "execution_count": 96,
   "metadata": {},
   "outputs": [
    {
     "name": "stdout",
     "output_type": "stream",
     "text": [
      "Testing accuracy: 0.9485266219805236\n",
      "F1 score: 0.9491905777358298\n",
      "                  precision    recall  f1-score   support\n",
      "\n",
      "     beauty_shop       0.96      0.86      0.91      2557\n",
      "      cloth_shop       0.98      1.00      0.99      6376\n",
      "      dairy_shop       0.96      0.60      0.74       205\n",
      "electronics_shop       0.95      0.95      0.95      1230\n",
      "  furniture_shop       0.97      0.96      0.96      7192\n",
      "   hardware_shop       0.95      0.65      0.77       587\n",
      "  jewellery_shop       1.00      0.64      0.78        28\n",
      "     kirana_shop       0.92      0.96      0.94      5741\n",
      "     mobile_shop       0.98      0.97      0.98      3875\n",
      "      other_shop       0.95      0.96      0.96      2942\n",
      "  pharamacy_shop       0.88      0.94      0.91      4533\n",
      "     sports_shop       0.97      0.93      0.95      2128\n",
      " stationary_shop       0.94      0.96      0.95      2035\n",
      "  vegetable_shop       0.93      0.73      0.81       106\n",
      "\n",
      "        accuracy                           0.95     39535\n",
      "       macro avg       0.95      0.86      0.90     39535\n",
      "    weighted avg       0.95      0.95      0.95     39535\n",
      "\n"
     ]
    }
   ],
   "source": [
    "# test the model\n",
    "y_pred = gs.predict(x_test)\n",
    "\n",
    "print_accuracies(y_pred, y_test)\n",
    "\n",
    "print_classification_report(y_pred, y_test)"
   ]
  },
  {
   "cell_type": "code",
   "execution_count": 97,
   "metadata": {},
   "outputs": [
    {
     "data": {
      "text/plain": [
       "['grid_search_best_model.pkl']"
      ]
     },
     "execution_count": 97,
     "metadata": {},
     "output_type": "execute_result"
    }
   ],
   "source": [
    "# save the model\n",
    "joblib.dump(gs, 'grid_search_best_model.pkl')"
   ]
  }
 ],
 "metadata": {
  "kernelspec": {
   "display_name": "Python 3.8.5 64-bit",
   "language": "python",
   "name": "python3"
  },
  "language_info": {
   "codemirror_mode": {
    "name": "ipython",
    "version": 3
   },
   "file_extension": ".py",
   "mimetype": "text/x-python",
   "name": "python",
   "nbconvert_exporter": "python",
   "pygments_lexer": "ipython3",
   "version": "3.8.5"
  },
  "orig_nbformat": 4,
  "vscode": {
   "interpreter": {
    "hash": "31f2aee4e71d21fbe5cf8b01ff0e069b9275f58929596ceb00d14d90e3e16cd6"
   }
  }
 },
 "nbformat": 4,
 "nbformat_minor": 2
}
